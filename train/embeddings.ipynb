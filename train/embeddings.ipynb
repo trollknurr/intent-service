{
 "cells": [
  {
   "cell_type": "code",
   "execution_count": 21,
   "metadata": {},
   "outputs": [],
   "source": [
    "import pandas as pd\n",
    "import numpy as np\n",
    "\n",
    "\n",
    "train_df = pd.read_csv('./c_train.csv')\n",
    "test_df = pd.read_csv('./c_test.csv')"
   ]
  },
  {
   "cell_type": "code",
   "execution_count": 22,
   "metadata": {},
   "outputs": [],
   "source": [
    "from transformers import AutoModel"
   ]
  },
  {
   "cell_type": "code",
   "execution_count": 23,
   "metadata": {},
   "outputs": [],
   "source": [
    "model = AutoModel.from_pretrained(\"jinaai/jina-embeddings-v3\", trust_remote_code=True)\n",
    "model.to(\"mps\")\n",
    "_ = model.eval()"
   ]
  },
  {
   "cell_type": "code",
   "execution_count": 24,
   "metadata": {},
   "outputs": [],
   "source": [
    "train_embeddings = model.encode(train_df['query'], task=\"classification\")\n",
    "test_embeddings = model.encode(test_df['query'], task=\"classification\")"
   ]
  },
  {
   "cell_type": "markdown",
   "metadata": {},
   "source": [
    "# Attemp 1: Logistic Regression as classification head"
   ]
  },
  {
   "cell_type": "code",
   "execution_count": 25,
   "metadata": {},
   "outputs": [
    {
     "name": "stdout",
     "output_type": "stream",
     "text": [
      "Test accuracy: 0.8543\n",
      "\n",
      "Classification Report:\n",
      "                precision    recall  f1-score   support\n",
      "\n",
      "  abbreviation       0.84      1.00      0.91        26\n",
      "      aircraft       0.31      0.62      0.42         8\n",
      "       airfare       0.72      0.56      0.63        61\n",
      "       airline       0.93      0.47      0.62        30\n",
      "       airport       0.00      0.00      0.00        13\n",
      "      capacity       1.00      0.05      0.09        21\n",
      "          city       0.00      0.00      0.00         5\n",
      "      day_name       0.00      0.00      0.00         2\n",
      "      distance       1.00      0.10      0.18        10\n",
      "        flight       0.88      0.99      0.93       627\n",
      "     flight_no       0.00      0.00      0.00         9\n",
      "   flight_time       0.00      0.00      0.00         1\n",
      "   ground_fare       0.00      0.00      0.00         7\n",
      "ground_service       0.80      0.97      0.88        36\n",
      "          meal       0.00      0.00      0.00         6\n",
      "      quantity       0.00      0.00      0.00         3\n",
      "\n",
      "      accuracy                           0.85       865\n",
      "     macro avg       0.41      0.30      0.29       865\n",
      "  weighted avg       0.82      0.85      0.81       865\n",
      "\n"
     ]
    },
    {
     "name": "stderr",
     "output_type": "stream",
     "text": [
      "/Users/tonysh/Projects/mY/Ultimate ML Engineer Challenge 2025/.venv/lib/python3.11/site-packages/sklearn/metrics/_classification.py:1565: UndefinedMetricWarning: Precision is ill-defined and being set to 0.0 in labels with no predicted samples. Use `zero_division` parameter to control this behavior.\n",
      "  _warn_prf(average, modifier, f\"{metric.capitalize()} is\", len(result))\n",
      "/Users/tonysh/Projects/mY/Ultimate ML Engineer Challenge 2025/.venv/lib/python3.11/site-packages/sklearn/metrics/_classification.py:1565: UndefinedMetricWarning: Precision is ill-defined and being set to 0.0 in labels with no predicted samples. Use `zero_division` parameter to control this behavior.\n",
      "  _warn_prf(average, modifier, f\"{metric.capitalize()} is\", len(result))\n",
      "/Users/tonysh/Projects/mY/Ultimate ML Engineer Challenge 2025/.venv/lib/python3.11/site-packages/sklearn/metrics/_classification.py:1565: UndefinedMetricWarning: Precision is ill-defined and being set to 0.0 in labels with no predicted samples. Use `zero_division` parameter to control this behavior.\n",
      "  _warn_prf(average, modifier, f\"{metric.capitalize()} is\", len(result))\n"
     ]
    }
   ],
   "source": [
    "from sklearn.linear_model import LogisticRegression\n",
    "from sklearn.metrics import accuracy_score, classification_report\n",
    "from sklearn.multiclass import OneVsRestClassifier\n",
    "\n",
    "# Train logistic regression\n",
    "lr = OneVsRestClassifier(LogisticRegression(random_state=0, max_iter=1000))\n",
    "lr.fit(train_embeddings, train_df['intent'])\n",
    "\n",
    "# Make predictions on test set\n",
    "test_pred = lr.predict(test_embeddings)\n",
    "\n",
    "# Calculate and print metrics\n",
    "test_accuracy = accuracy_score(test_df['intent'], test_pred)\n",
    "print(f\"Test accuracy: {test_accuracy:.4f}\")\n",
    "\n",
    "# Print detailed classification report\n",
    "print(\"\\nClassification Report:\")\n",
    "print(classification_report(test_df['intent'], test_pred))\n"
   ]
  },
  {
   "cell_type": "code",
   "execution_count": 27,
   "metadata": {},
   "outputs": [],
   "source": [
    "import pickle\n",
    "with open('../weights/lr_jina_model.pkl', 'wb') as f:\n",
    "    pickle.dump(lr, f)"
   ]
  },
  {
   "cell_type": "markdown",
   "metadata": {},
   "source": [
    "## Conclusion: Logistic regression with NN embeddings perform slightly worse than with tf-idf\n",
    "Plus:\n",
    "* Multi-language\n",
    "* Embedder do not require re-training\n",
    "\n",
    "Minus:\n",
    "* Slower than tf-idf and requires more resources\n",
    "* New intent still requires labeling"
   ]
  },
  {
   "cell_type": "code",
   "execution_count": 12,
   "metadata": {},
   "outputs": [
    {
     "name": "stdout",
     "output_type": "stream",
     "text": [
      "Random Forest Test accuracy: 0.8659\n",
      "\n",
      "Random Forest Classification Report:\n",
      "                precision    recall  f1-score   support\n",
      "\n",
      "  abbreviation       0.93      1.00      0.96        26\n",
      "      aircraft       0.43      0.38      0.40         8\n",
      "       airfare       0.90      0.44      0.59        61\n",
      "       airline       1.00      0.47      0.64        30\n",
      "       airport       1.00      0.08      0.14        13\n",
      "      capacity       1.00      0.52      0.69        21\n",
      "          city       0.00      0.00      0.00         5\n",
      "      day_name       0.00      0.00      0.00         2\n",
      "      distance       1.00      0.50      0.67        10\n",
      "        flight       0.86      1.00      0.92       627\n",
      "     flight_no       0.00      0.00      0.00         9\n",
      "   flight_time       0.00      0.00      0.00         1\n",
      "   ground_fare       1.00      0.43      0.60         7\n",
      "ground_service       0.89      0.92      0.90        36\n",
      "          meal       0.00      0.00      0.00         6\n",
      "      quantity       0.00      0.00      0.00         3\n",
      "\n",
      "      accuracy                           0.87       865\n",
      "     macro avg       0.56      0.36      0.41       865\n",
      "  weighted avg       0.85      0.87      0.83       865\n",
      "\n"
     ]
    },
    {
     "name": "stderr",
     "output_type": "stream",
     "text": [
      "/Users/tonysh/Projects/mY/Ultimate ML Engineer Challenge 2025/.venv/lib/python3.11/site-packages/sklearn/metrics/_classification.py:1565: UndefinedMetricWarning: Precision is ill-defined and being set to 0.0 in labels with no predicted samples. Use `zero_division` parameter to control this behavior.\n",
      "  _warn_prf(average, modifier, f\"{metric.capitalize()} is\", len(result))\n",
      "/Users/tonysh/Projects/mY/Ultimate ML Engineer Challenge 2025/.venv/lib/python3.11/site-packages/sklearn/metrics/_classification.py:1565: UndefinedMetricWarning: Precision is ill-defined and being set to 0.0 in labels with no predicted samples. Use `zero_division` parameter to control this behavior.\n",
      "  _warn_prf(average, modifier, f\"{metric.capitalize()} is\", len(result))\n",
      "/Users/tonysh/Projects/mY/Ultimate ML Engineer Challenge 2025/.venv/lib/python3.11/site-packages/sklearn/metrics/_classification.py:1565: UndefinedMetricWarning: Precision is ill-defined and being set to 0.0 in labels with no predicted samples. Use `zero_division` parameter to control this behavior.\n",
      "  _warn_prf(average, modifier, f\"{metric.capitalize()} is\", len(result))\n"
     ]
    }
   ],
   "source": [
    "from sklearn.ensemble import RandomForestClassifier\n",
    "from sklearn.metrics import accuracy_score, classification_report\n",
    "\n",
    "# Initialize and train Random Forest model\n",
    "rf = RandomForestClassifier(n_estimators=100, random_state=42)\n",
    "rf.fit(train_embeddings, train_df['intent'])\n",
    "\n",
    "# Make predictions\n",
    "rf_test_pred = rf.predict(test_embeddings)\n",
    "\n",
    "# Calculate and print metrics\n",
    "rf_test_accuracy = accuracy_score(test_df['intent'], rf_test_pred)\n",
    "\n",
    "print(f\"Random Forest Test accuracy: {rf_test_accuracy:.4f}\")\n",
    "\n",
    "# Print detailed classification report\n",
    "print(\"\\nRandom Forest Classification Report:\")\n",
    "print(classification_report(test_df['intent'], rf_test_pred))"
   ]
  },
  {
   "cell_type": "markdown",
   "metadata": {},
   "source": [
    "## Let's try reduce vector embedding space"
   ]
  },
  {
   "cell_type": "code",
   "execution_count": 19,
   "metadata": {},
   "outputs": [],
   "source": [
    "train_embeddings = model.encode(train_df['query'], task=\"classification\", truncate_dim=512)\n",
    "test_embeddings = model.encode(test_df['query'], task=\"classification\", truncate_dim=512)"
   ]
  },
  {
   "cell_type": "markdown",
   "metadata": {},
   "source": [
    "## Attemp 3: Logistic regression on reduced space"
   ]
  },
  {
   "cell_type": "code",
   "execution_count": 20,
   "metadata": {},
   "outputs": [
    {
     "name": "stdout",
     "output_type": "stream",
     "text": [
      "Test accuracy: 0.8532\n",
      "\n",
      "Classification Report:\n",
      "                precision    recall  f1-score   support\n",
      "\n",
      "  abbreviation       0.84      1.00      0.91        26\n",
      "      aircraft       0.27      0.50      0.35         8\n",
      "       airfare       0.73      0.52      0.61        61\n",
      "       airline       0.93      0.47      0.62        30\n",
      "       airport       0.00      0.00      0.00        13\n",
      "      capacity       1.00      0.05      0.09        21\n",
      "          city       0.00      0.00      0.00         5\n",
      "      day_name       0.00      0.00      0.00         2\n",
      "      distance       1.00      0.20      0.33        10\n",
      "        flight       0.87      1.00      0.93       627\n",
      "     flight_no       0.00      0.00      0.00         9\n",
      "   flight_time       0.00      0.00      0.00         1\n",
      "   ground_fare       0.00      0.00      0.00         7\n",
      "ground_service       0.81      0.97      0.89        36\n",
      "          meal       0.00      0.00      0.00         6\n",
      "      quantity       0.00      0.00      0.00         3\n",
      "\n",
      "      accuracy                           0.85       865\n",
      "     macro avg       0.40      0.29      0.30       865\n",
      "  weighted avg       0.81      0.85      0.81       865\n",
      "\n"
     ]
    },
    {
     "name": "stderr",
     "output_type": "stream",
     "text": [
      "/Users/tonysh/Projects/mY/Ultimate ML Engineer Challenge 2025/.venv/lib/python3.11/site-packages/sklearn/metrics/_classification.py:1565: UndefinedMetricWarning: Precision is ill-defined and being set to 0.0 in labels with no predicted samples. Use `zero_division` parameter to control this behavior.\n",
      "  _warn_prf(average, modifier, f\"{metric.capitalize()} is\", len(result))\n",
      "/Users/tonysh/Projects/mY/Ultimate ML Engineer Challenge 2025/.venv/lib/python3.11/site-packages/sklearn/metrics/_classification.py:1565: UndefinedMetricWarning: Precision is ill-defined and being set to 0.0 in labels with no predicted samples. Use `zero_division` parameter to control this behavior.\n",
      "  _warn_prf(average, modifier, f\"{metric.capitalize()} is\", len(result))\n",
      "/Users/tonysh/Projects/mY/Ultimate ML Engineer Challenge 2025/.venv/lib/python3.11/site-packages/sklearn/metrics/_classification.py:1565: UndefinedMetricWarning: Precision is ill-defined and being set to 0.0 in labels with no predicted samples. Use `zero_division` parameter to control this behavior.\n",
      "  _warn_prf(average, modifier, f\"{metric.capitalize()} is\", len(result))\n"
     ]
    }
   ],
   "source": [
    "# Train logistic regression\n",
    "lr = OneVsRestClassifier(LogisticRegression(random_state=0, max_iter=1000))\n",
    "lr.fit(train_embeddings, train_df['intent'])\n",
    "\n",
    "# Make predictions on test set\n",
    "test_pred = lr.predict(test_embeddings)\n",
    "\n",
    "# Calculate and print metrics\n",
    "test_accuracy = accuracy_score(test_df['intent'], test_pred)\n",
    "print(f\"Test accuracy: {test_accuracy:.4f}\")\n",
    "\n",
    "# Print detailed classification report\n",
    "print(\"\\nClassification Report:\")\n",
    "print(classification_report(test_df['intent'], test_pred))"
   ]
  },
  {
   "cell_type": "markdown",
   "metadata": {},
   "source": [
    "## Conclusion: performs similar as with full sized embeddings"
   ]
  }
 ],
 "metadata": {
  "kernelspec": {
   "display_name": ".venv",
   "language": "python",
   "name": "python3"
  },
  "language_info": {
   "codemirror_mode": {
    "name": "ipython",
    "version": 3
   },
   "file_extension": ".py",
   "mimetype": "text/x-python",
   "name": "python",
   "nbconvert_exporter": "python",
   "pygments_lexer": "ipython3",
   "version": "3.11.12"
  }
 },
 "nbformat": 4,
 "nbformat_minor": 2
}
