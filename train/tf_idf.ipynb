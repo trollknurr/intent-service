{
 "cells": [
  {
   "cell_type": "code",
   "execution_count": 1,
   "metadata": {},
   "outputs": [],
   "source": [
    "import pandas as pd\n",
    "import numpy as np\n",
    "\n",
    "\n",
    "train_df = pd.read_csv('./c_train.csv')\n",
    "test_df = pd.read_csv('./c_test.csv')"
   ]
  },
  {
   "cell_type": "code",
   "execution_count": 6,
   "metadata": {},
   "outputs": [],
   "source": [
    "np.random.seed(0)"
   ]
  },
  {
   "cell_type": "code",
   "execution_count": 5,
   "metadata": {},
   "outputs": [],
   "source": [
    "# Build tf-idf dictionary on train\n",
    "from sklearn.feature_extraction.text import TfidfVectorizer\n",
    "\n",
    "# Initialize TF-IDF vectorizer\n",
    "tfidf = TfidfVectorizer(min_df=2, max_df=0.95)\n",
    "\n",
    "# Get feature names\n",
    "train_tfidf = tfidf.fit_transform(train_df['query'])\n",
    "test_tfids = tfidf.transform(test_df['query'])\n"
   ]
  },
  {
   "cell_type": "markdown",
   "metadata": {},
   "source": [
    "## Attemp 1: Logistic regression"
   ]
  },
  {
   "cell_type": "code",
   "execution_count": 17,
   "metadata": {},
   "outputs": [
    {
     "name": "stdout",
     "output_type": "stream",
     "text": [
      "Test accuracy: 0.8682\n",
      "\n",
      "Classification Report:\n",
      "                precision    recall  f1-score   support\n",
      "\n",
      "  abbreviation       1.00      0.96      0.98        26\n",
      "      aircraft       0.44      0.88      0.58         8\n",
      "       airfare       0.85      0.64      0.73        61\n",
      "       airline       1.00      0.63      0.78        30\n",
      "       airport       0.00      0.00      0.00        13\n",
      "      capacity       1.00      0.14      0.25        21\n",
      "          city       0.00      0.00      0.00         5\n",
      "      day_name       0.00      0.00      0.00         2\n",
      "      distance       1.00      0.10      0.18        10\n",
      "        flight       0.87      0.99      0.93       627\n",
      "     flight_no       0.00      0.00      0.00         9\n",
      "   flight_time       0.00      0.00      0.00         1\n",
      "   ground_fare       1.00      0.57      0.73         7\n",
      "ground_service       0.97      0.89      0.93        36\n",
      "          meal       0.00      0.00      0.00         6\n",
      "      quantity       0.30      1.00      0.46         3\n",
      "\n",
      "      accuracy                           0.87       865\n",
      "     macro avg       0.53      0.42      0.41       865\n",
      "  weighted avg       0.85      0.87      0.84       865\n",
      "\n"
     ]
    },
    {
     "name": "stderr",
     "output_type": "stream",
     "text": [
      "/Users/tonysh/Projects/mY/Ultimate ML Engineer Challenge 2025/.venv/lib/python3.11/site-packages/sklearn/metrics/_classification.py:1565: UndefinedMetricWarning: Precision is ill-defined and being set to 0.0 in labels with no predicted samples. Use `zero_division` parameter to control this behavior.\n",
      "  _warn_prf(average, modifier, f\"{metric.capitalize()} is\", len(result))\n",
      "/Users/tonysh/Projects/mY/Ultimate ML Engineer Challenge 2025/.venv/lib/python3.11/site-packages/sklearn/metrics/_classification.py:1565: UndefinedMetricWarning: Precision is ill-defined and being set to 0.0 in labels with no predicted samples. Use `zero_division` parameter to control this behavior.\n",
      "  _warn_prf(average, modifier, f\"{metric.capitalize()} is\", len(result))\n",
      "/Users/tonysh/Projects/mY/Ultimate ML Engineer Challenge 2025/.venv/lib/python3.11/site-packages/sklearn/metrics/_classification.py:1565: UndefinedMetricWarning: Precision is ill-defined and being set to 0.0 in labels with no predicted samples. Use `zero_division` parameter to control this behavior.\n",
      "  _warn_prf(average, modifier, f\"{metric.capitalize()} is\", len(result))\n"
     ]
    }
   ],
   "source": [
    "from sklearn.linear_model import LogisticRegression\n",
    "from sklearn.multiclass import OneVsRestClassifier\n",
    "from sklearn.metrics import accuracy_score, classification_report\n",
    "\n",
    "# Train logistic regression\n",
    "lr = OneVsRestClassifier(LogisticRegression(random_state=0, max_iter=1000))\n",
    "lr.fit(train_tfidf, train_df['intent'])\n",
    "\n",
    "# Make predictions on test set\n",
    "test_pred = lr.predict(test_tfids)\n",
    "\n",
    "# Calculate and print metrics\n",
    "test_accuracy = accuracy_score(test_df['intent'], test_pred)\n",
    "print(f\"Test accuracy: {test_accuracy:.4f}\")\n",
    "\n",
    "# Print detailed classification report\n",
    "print(\"\\nClassification Report:\")\n",
    "print(classification_report(test_df['intent'], test_pred))\n"
   ]
  },
  {
   "cell_type": "code",
   "execution_count": 13,
   "metadata": {},
   "outputs": [],
   "source": [
    "# Save weights\n",
    "import os\n",
    "import pickle\n",
    "\n",
    "# Create weights directory if it doesn't exist\n",
    "os.makedirs('../weights', exist_ok=True)\n",
    "\n",
    "# Save the TF-IDF vectorizer\n",
    "with open('../weights/tfidf_vectorizer.pkl', 'wb') as f:\n",
    "    pickle.dump(tfidf, f)\n",
    "\n",
    "# Save the logistic regression model  \n",
    "with open('../weights/logistic_regression.pkl', 'wb') as f:\n",
    "    pickle.dump(lr, f)\n",
    "\n"
   ]
  },
  {
   "cell_type": "markdown",
   "metadata": {},
   "source": [
    "### Conclusion: get better results than fixed predictor\n",
    "Pluses:\n",
    "* easy and fast to train\n",
    "* fast inference\n",
    "\n",
    "Minuses:\n",
    "* fixed dictionary, unseen words in queries requeires re-training\n",
    "* not multilingual unless re-trained\n",
    "* new intents need markup"
   ]
  },
  {
   "cell_type": "markdown",
   "metadata": {},
   "source": [
    "## Attemp 2: Random Forest"
   ]
  },
  {
   "cell_type": "code",
   "execution_count": 18,
   "metadata": {},
   "outputs": [
    {
     "name": "stdout",
     "output_type": "stream",
     "text": [
      "Random Forest Test accuracy: 0.9064\n",
      "\n",
      "Random Forest Classification Report:\n",
      "                precision    recall  f1-score   support\n",
      "\n",
      "  abbreviation       1.00      1.00      1.00        26\n",
      "      aircraft       0.44      1.00      0.62         8\n",
      "       airfare       0.86      0.82      0.84        61\n",
      "       airline       1.00      0.57      0.72        30\n",
      "       airport       1.00      0.54      0.70        13\n",
      "      capacity       1.00      0.57      0.73        21\n",
      "          city       0.00      0.00      0.00         5\n",
      "      day_name       0.00      0.00      0.00         2\n",
      "      distance       1.00      0.60      0.75        10\n",
      "        flight       0.92      0.98      0.95       627\n",
      "     flight_no       0.00      0.00      0.00         9\n",
      "   flight_time       1.00      1.00      1.00         1\n",
      "   ground_fare       1.00      0.57      0.73         7\n",
      "ground_service       0.95      1.00      0.97        36\n",
      "          meal       0.00      0.00      0.00         6\n",
      "      quantity       0.43      1.00      0.60         3\n",
      "\n",
      "      accuracy                           0.91       865\n",
      "     macro avg       0.66      0.60      0.60       865\n",
      "  weighted avg       0.89      0.91      0.89       865\n",
      "\n"
     ]
    },
    {
     "name": "stderr",
     "output_type": "stream",
     "text": [
      "/Users/tonysh/Projects/mY/Ultimate ML Engineer Challenge 2025/.venv/lib/python3.11/site-packages/sklearn/metrics/_classification.py:1565: UndefinedMetricWarning: Precision is ill-defined and being set to 0.0 in labels with no predicted samples. Use `zero_division` parameter to control this behavior.\n",
      "  _warn_prf(average, modifier, f\"{metric.capitalize()} is\", len(result))\n",
      "/Users/tonysh/Projects/mY/Ultimate ML Engineer Challenge 2025/.venv/lib/python3.11/site-packages/sklearn/metrics/_classification.py:1565: UndefinedMetricWarning: Precision is ill-defined and being set to 0.0 in labels with no predicted samples. Use `zero_division` parameter to control this behavior.\n",
      "  _warn_prf(average, modifier, f\"{metric.capitalize()} is\", len(result))\n",
      "/Users/tonysh/Projects/mY/Ultimate ML Engineer Challenge 2025/.venv/lib/python3.11/site-packages/sklearn/metrics/_classification.py:1565: UndefinedMetricWarning: Precision is ill-defined and being set to 0.0 in labels with no predicted samples. Use `zero_division` parameter to control this behavior.\n",
      "  _warn_prf(average, modifier, f\"{metric.capitalize()} is\", len(result))\n"
     ]
    }
   ],
   "source": [
    "from sklearn.ensemble import RandomForestClassifier\n",
    "from sklearn.metrics import accuracy_score, classification_report\n",
    "\n",
    "# Initialize and train Random Forest model\n",
    "rf = RandomForestClassifier(n_estimators=100, max_depth=100, random_state=42)\n",
    "rf.fit(train_tfidf, train_df['intent'])\n",
    "\n",
    "# Make predictions\n",
    "rf_test_pred = rf.predict(test_tfids)\n",
    "\n",
    "# Calculate and print metrics\n",
    "rf_test_accuracy = accuracy_score(test_df['intent'], rf_test_pred)\n",
    "\n",
    "print(f\"Random Forest Test accuracy: {rf_test_accuracy:.4f}\")\n",
    "\n",
    "# Print detailed classification report\n",
    "print(\"\\nRandom Forest Classification Report:\")\n",
    "print(classification_report(test_df['intent'], rf_test_pred))\n"
   ]
  },
  {
   "cell_type": "code",
   "execution_count": 16,
   "metadata": {},
   "outputs": [],
   "source": [
    "# Save the random forest model\n",
    "with open('../weights/random_forest.pkl', 'wb') as f:\n",
    "    pickle.dump(rf, f)"
   ]
  },
  {
   "cell_type": "markdown",
   "metadata": {},
   "source": [
    "### Conclusion: better metrics with all same minuses\n"
   ]
  }
 ],
 "metadata": {
  "kernelspec": {
   "display_name": ".venv",
   "language": "python",
   "name": "python3"
  },
  "language_info": {
   "codemirror_mode": {
    "name": "ipython",
    "version": 3
   },
   "file_extension": ".py",
   "mimetype": "text/x-python",
   "name": "python",
   "nbconvert_exporter": "python",
   "pygments_lexer": "ipython3",
   "version": "3.11.12"
  }
 },
 "nbformat": 4,
 "nbformat_minor": 2
}
