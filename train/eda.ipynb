{
 "cells": [
  {
   "cell_type": "code",
   "execution_count": 14,
   "metadata": {},
   "outputs": [],
   "source": [
    "import pandas as pd\n",
    "import numpy as np\n",
    "\n",
    "\n",
    "train_df = pd.read_csv('../data/atis/train.tsv', header=None, sep='\\t')\n",
    "test_df = pd.read_csv('../data/atis/test.tsv', header=None, sep='\\t')\n",
    "train_df.columns = ['query', 'intent']\n",
    "test_df.columns = ['query', 'intent']"
   ]
  },
  {
   "cell_type": "code",
   "execution_count": 15,
   "metadata": {},
   "outputs": [
    {
     "data": {
      "text/html": [
       "<div>\n",
       "<style scoped>\n",
       "    .dataframe tbody tr th:only-of-type {\n",
       "        vertical-align: middle;\n",
       "    }\n",
       "\n",
       "    .dataframe tbody tr th {\n",
       "        vertical-align: top;\n",
       "    }\n",
       "\n",
       "    .dataframe thead th {\n",
       "        text-align: right;\n",
       "    }\n",
       "</style>\n",
       "<table border=\"1\" class=\"dataframe\">\n",
       "  <thead>\n",
       "    <tr style=\"text-align: right;\">\n",
       "      <th></th>\n",
       "      <th>query</th>\n",
       "      <th>intent</th>\n",
       "    </tr>\n",
       "  </thead>\n",
       "  <tbody>\n",
       "    <tr>\n",
       "      <th>0</th>\n",
       "      <td>i want to fly from boston at 838 am and arrive...</td>\n",
       "      <td>flight</td>\n",
       "    </tr>\n",
       "    <tr>\n",
       "      <th>1</th>\n",
       "      <td>what flights are available from pittsburgh to ...</td>\n",
       "      <td>flight</td>\n",
       "    </tr>\n",
       "    <tr>\n",
       "      <th>2</th>\n",
       "      <td>what is the arrival time in san francisco for ...</td>\n",
       "      <td>flight_time</td>\n",
       "    </tr>\n",
       "    <tr>\n",
       "      <th>3</th>\n",
       "      <td>cheapest airfare from tacoma to orlando</td>\n",
       "      <td>airfare</td>\n",
       "    </tr>\n",
       "    <tr>\n",
       "      <th>4</th>\n",
       "      <td>round trip fares from pittsburgh to philadelph...</td>\n",
       "      <td>airfare</td>\n",
       "    </tr>\n",
       "  </tbody>\n",
       "</table>\n",
       "</div>"
      ],
      "text/plain": [
       "                                               query       intent\n",
       "0  i want to fly from boston at 838 am and arrive...       flight\n",
       "1  what flights are available from pittsburgh to ...       flight\n",
       "2  what is the arrival time in san francisco for ...  flight_time\n",
       "3            cheapest airfare from tacoma to orlando      airfare\n",
       "4  round trip fares from pittsburgh to philadelph...      airfare"
      ]
     },
     "execution_count": 15,
     "metadata": {},
     "output_type": "execute_result"
    }
   ],
   "source": [
    "train_df.head()"
   ]
  },
  {
   "cell_type": "code",
   "execution_count": 16,
   "metadata": {},
   "outputs": [
    {
     "data": {
      "text/html": [
       "<div>\n",
       "<style scoped>\n",
       "    .dataframe tbody tr th:only-of-type {\n",
       "        vertical-align: middle;\n",
       "    }\n",
       "\n",
       "    .dataframe tbody tr th {\n",
       "        vertical-align: top;\n",
       "    }\n",
       "\n",
       "    .dataframe thead th {\n",
       "        text-align: right;\n",
       "    }\n",
       "</style>\n",
       "<table border=\"1\" class=\"dataframe\">\n",
       "  <thead>\n",
       "    <tr style=\"text-align: right;\">\n",
       "      <th></th>\n",
       "      <th>query</th>\n",
       "      <th>intent</th>\n",
       "    </tr>\n",
       "  </thead>\n",
       "  <tbody>\n",
       "    <tr>\n",
       "      <th>count</th>\n",
       "      <td>4634</td>\n",
       "      <td>4634</td>\n",
       "    </tr>\n",
       "    <tr>\n",
       "      <th>unique</th>\n",
       "      <td>4634</td>\n",
       "      <td>22</td>\n",
       "    </tr>\n",
       "    <tr>\n",
       "      <th>top</th>\n",
       "      <td>i want to fly from boston at 838 am and arrive...</td>\n",
       "      <td>flight</td>\n",
       "    </tr>\n",
       "    <tr>\n",
       "      <th>freq</th>\n",
       "      <td>1</td>\n",
       "      <td>3426</td>\n",
       "    </tr>\n",
       "  </tbody>\n",
       "</table>\n",
       "</div>"
      ],
      "text/plain": [
       "                                                    query  intent\n",
       "count                                                4634    4634\n",
       "unique                                               4634      22\n",
       "top     i want to fly from boston at 838 am and arrive...  flight\n",
       "freq                                                    1    3426"
      ]
     },
     "execution_count": 16,
     "metadata": {},
     "output_type": "execute_result"
    }
   ],
   "source": [
    "train_df.describe()"
   ]
  },
  {
   "cell_type": "code",
   "execution_count": 17,
   "metadata": {},
   "outputs": [
    {
     "data": {
      "text/html": [
       "<div>\n",
       "<style scoped>\n",
       "    .dataframe tbody tr th:only-of-type {\n",
       "        vertical-align: middle;\n",
       "    }\n",
       "\n",
       "    .dataframe tbody tr th {\n",
       "        vertical-align: top;\n",
       "    }\n",
       "\n",
       "    .dataframe thead th {\n",
       "        text-align: right;\n",
       "    }\n",
       "</style>\n",
       "<table border=\"1\" class=\"dataframe\">\n",
       "  <thead>\n",
       "    <tr style=\"text-align: right;\">\n",
       "      <th></th>\n",
       "      <th>query</th>\n",
       "      <th>intent</th>\n",
       "    </tr>\n",
       "  </thead>\n",
       "  <tbody>\n",
       "    <tr>\n",
       "      <th>count</th>\n",
       "      <td>850</td>\n",
       "      <td>850</td>\n",
       "    </tr>\n",
       "    <tr>\n",
       "      <th>unique</th>\n",
       "      <td>850</td>\n",
       "      <td>20</td>\n",
       "    </tr>\n",
       "    <tr>\n",
       "      <th>top</th>\n",
       "      <td>i would like to find a flight from charlotte t...</td>\n",
       "      <td>flight</td>\n",
       "    </tr>\n",
       "    <tr>\n",
       "      <th>freq</th>\n",
       "      <td>1</td>\n",
       "      <td>613</td>\n",
       "    </tr>\n",
       "  </tbody>\n",
       "</table>\n",
       "</div>"
      ],
      "text/plain": [
       "                                                    query  intent\n",
       "count                                                 850     850\n",
       "unique                                                850      20\n",
       "top     i would like to find a flight from charlotte t...  flight\n",
       "freq                                                    1     613"
      ]
     },
     "execution_count": 17,
     "metadata": {},
     "output_type": "execute_result"
    }
   ],
   "source": [
    "test_df.describe()"
   ]
  },
  {
   "cell_type": "code",
   "execution_count": 18,
   "metadata": {},
   "outputs": [
    {
     "data": {
      "text/plain": [
       "intent\n",
       "flight                        3426\n",
       "airfare                        403\n",
       "ground_service                 235\n",
       "airline                        148\n",
       "abbreviation                   108\n",
       "aircraft                        78\n",
       "flight_time                     52\n",
       "quantity                        49\n",
       "distance                        20\n",
       "city                            18\n",
       "airport                         18\n",
       "ground_fare                     17\n",
       "flight+airfare                  17\n",
       "capacity                        16\n",
       "flight_no                       12\n",
       "meal                             6\n",
       "restriction                      5\n",
       "airline+flight_no                2\n",
       "ground_service+ground_fare       1\n",
       "airfare+flight_time              1\n",
       "cheapest                         1\n",
       "aircraft+flight+flight_no        1\n",
       "Name: count, dtype: int64"
      ]
     },
     "execution_count": 18,
     "metadata": {},
     "output_type": "execute_result"
    }
   ],
   "source": [
    "train_df['intent'].value_counts()"
   ]
  },
  {
   "cell_type": "code",
   "execution_count": 20,
   "metadata": {},
   "outputs": [
    {
     "data": {
      "text/plain": [
       "intent\n",
       "flight               613\n",
       "airfare               48\n",
       "ground_service        36\n",
       "airline               28\n",
       "abbreviation          26\n",
       "capacity              21\n",
       "airport               13\n",
       "flight+airfare        12\n",
       "distance              10\n",
       "aircraft               8\n",
       "flight_no              8\n",
       "ground_fare            7\n",
       "meal                   6\n",
       "city                   5\n",
       "quantity               3\n",
       "day_name               2\n",
       "flight_time            1\n",
       "airfare+flight         1\n",
       "flight+airline         1\n",
       "flight_no+airline      1\n",
       "Name: count, dtype: int64"
      ]
     },
     "execution_count": 20,
     "metadata": {},
     "output_type": "execute_result"
    }
   ],
   "source": [
    "test_df['intent'].value_counts()"
   ]
  },
  {
   "cell_type": "markdown",
   "metadata": {},
   "source": [
    "#### Note: dataset not balanced ~74% of train queries and ~72% of test queries are about flight"
   ]
  },
  {
   "cell_type": "code",
   "execution_count": 39,
   "metadata": {},
   "outputs": [
    {
     "name": "stdout",
     "output_type": "stream",
     "text": [
      "Test accuracy: 0.7212\n",
      "\n",
      "Classification Report:\n",
      "                   precision    recall  f1-score   support\n",
      "\n",
      "     abbreviation       0.00      0.00      0.00        26\n",
      "         aircraft       0.00      0.00      0.00         8\n",
      "          airfare       0.00      0.00      0.00        48\n",
      "   airfare+flight       0.00      0.00      0.00         1\n",
      "          airline       0.00      0.00      0.00        28\n",
      "          airport       0.00      0.00      0.00        13\n",
      "         capacity       0.00      0.00      0.00        21\n",
      "             city       0.00      0.00      0.00         5\n",
      "         day_name       0.00      0.00      0.00         2\n",
      "         distance       0.00      0.00      0.00        10\n",
      "           flight       0.72      1.00      0.84       613\n",
      "   flight+airfare       0.00      0.00      0.00        12\n",
      "   flight+airline       0.00      0.00      0.00         1\n",
      "        flight_no       0.00      0.00      0.00         8\n",
      "flight_no+airline       0.00      0.00      0.00         1\n",
      "      flight_time       0.00      0.00      0.00         1\n",
      "      ground_fare       0.00      0.00      0.00         7\n",
      "   ground_service       0.00      0.00      0.00        36\n",
      "             meal       0.00      0.00      0.00         6\n",
      "         quantity       0.00      0.00      0.00         3\n",
      "\n",
      "         accuracy                           0.72       850\n",
      "        macro avg       0.04      0.05      0.04       850\n",
      "     weighted avg       0.52      0.72      0.60       850\n",
      "\n"
     ]
    },
    {
     "name": "stderr",
     "output_type": "stream",
     "text": [
      "/Users/tonysh/Projects/mY/Ultimate ML Engineer Challenge 2025/.venv/lib/python3.11/site-packages/sklearn/metrics/_classification.py:1565: UndefinedMetricWarning: Precision is ill-defined and being set to 0.0 in labels with no predicted samples. Use `zero_division` parameter to control this behavior.\n",
      "  _warn_prf(average, modifier, f\"{metric.capitalize()} is\", len(result))\n",
      "/Users/tonysh/Projects/mY/Ultimate ML Engineer Challenge 2025/.venv/lib/python3.11/site-packages/sklearn/metrics/_classification.py:1565: UndefinedMetricWarning: Precision is ill-defined and being set to 0.0 in labels with no predicted samples. Use `zero_division` parameter to control this behavior.\n",
      "  _warn_prf(average, modifier, f\"{metric.capitalize()} is\", len(result))\n",
      "/Users/tonysh/Projects/mY/Ultimate ML Engineer Challenge 2025/.venv/lib/python3.11/site-packages/sklearn/metrics/_classification.py:1565: UndefinedMetricWarning: Precision is ill-defined and being set to 0.0 in labels with no predicted samples. Use `zero_division` parameter to control this behavior.\n",
      "  _warn_prf(average, modifier, f\"{metric.capitalize()} is\", len(result))\n"
     ]
    }
   ],
   "source": [
    "# Fixed classifier accuracy\n",
    "from sklearn.metrics import accuracy_score, classification_report\n",
    "fixed_pred = ['flight'] * test_df.shape[0]\n",
    "\n",
    "test_accuracy = accuracy_score(test_df['intent'], fixed_pred)\n",
    "print(f\"Test accuracy: {test_accuracy:.4f}\")\n",
    "\n",
    "print(\"\\nClassification Report:\")\n",
    "print(classification_report(test_df['intent'], fixed_pred))"
   ]
  },
  {
   "cell_type": "markdown",
   "metadata": {},
   "source": [
    "### Split `+` classes (combinations will be provided through multi-class predictors)"
   ]
  },
  {
   "cell_type": "code",
   "execution_count": 33,
   "metadata": {},
   "outputs": [],
   "source": [
    "def split_intent(df):\n",
    "    # Get rows with + in intent\n",
    "    plus_rows = df[df['intent'].str.contains('\\+')]\n",
    "\n",
    "    # Create new rows by splitting intents\n",
    "    new_rows = []\n",
    "    for _, row in plus_rows.iterrows():\n",
    "        intents = row['intent'].split('+')\n",
    "        for intent in intents:\n",
    "            new_rows.append({\n",
    "                'query': row['query'],\n",
    "                'intent': intent\n",
    "            })\n",
    "\n",
    "    # Convert to dataframe and append to original\n",
    "    plus_split_df = pd.DataFrame(new_rows)\n",
    "    return pd.concat([df[~df['intent'].str.contains('\\+')], plus_split_df])"
   ]
  },
  {
   "cell_type": "code",
   "execution_count": 34,
   "metadata": {},
   "outputs": [],
   "source": [
    "clean_train_df = split_intent(train_df)\n",
    "clean_test_df = split_intent(test_df)"
   ]
  },
  {
   "cell_type": "code",
   "execution_count": 37,
   "metadata": {},
   "outputs": [],
   "source": [
    "clean_train_df.to_csv('./c_train.csv', header=True, index=False)\n",
    "clean_test_df.to_csv('./c_test.csv', header=True, index=False)"
   ]
  }
 ],
 "metadata": {
  "kernelspec": {
   "display_name": ".venv",
   "language": "python",
   "name": "python3"
  },
  "language_info": {
   "codemirror_mode": {
    "name": "ipython",
    "version": 3
   },
   "file_extension": ".py",
   "mimetype": "text/x-python",
   "name": "python",
   "nbconvert_exporter": "python",
   "pygments_lexer": "ipython3",
   "version": "3.11.12"
  }
 },
 "nbformat": 4,
 "nbformat_minor": 2
}
